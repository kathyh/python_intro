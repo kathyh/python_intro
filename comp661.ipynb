{
 "cells": [
  {
   "cell_type": "markdown",
   "metadata": {},
   "source": [
    "# Comp661 Jupyter Example\n"
   ]
  },
  {
   "cell_type": "markdown",
   "metadata": {},
   "source": [
    "### Overview\n",
    "\n",
    "In this course we've covered many topics.  We will review some of the topics from the course using Jupyter notebooks.   \n",
    "COMP 661 Core Objectives:\n",
    "- Dictionaries\n",
    "- File IO and FILE OS\n",
    "- Exception handling\n",
    "- OOP\n",
    "- More OOP \n",
    "- GUI Programming \n",
    "\n"
   ]
  },
  {
   "cell_type": "markdown",
   "metadata": {},
   "source": [
    "### Dictionaries \n",
    "\n",
    "In the second module, we learned about dictionaries  They are represented in key:value pairs and can be referred to by using the key name.\n",
    "\n",
    "In the code space below, declare a dictionary that includes the following:  \"company\": \"Toyota\", \"model\": \"Camry\", \"year\": 2008 .  \n",
    "and have it print out the value of the \"model\". "
   ]
  },
  {
   "cell_type": "code",
   "execution_count": null,
   "metadata": {},
   "outputs": [],
   "source": []
  },
  {
   "cell_type": "markdown",
   "metadata": {},
   "source": [
    "### File IO and FILE OS\n",
    "In the third module, we expanded our ability to use data by learning about working with files. \n",
    "\n",
    "In the code space below, open a file for write, print \"hello world\" into the file and close the file. Check the file menu on the left to see if the file was created. "
   ]
  },
  {
   "cell_type": "code",
   "execution_count": null,
   "metadata": {},
   "outputs": [],
   "source": []
  },
  {
   "cell_type": "markdown",
   "metadata": {},
   "source": [
    "### Exception Handling\n",
    "In the fourth module, we learned about handling exceptions. This allowed us to handle errors/exceptions and handle them cleanly. \n",
    "\n",
    "In the code space below, add try/catch to catch the exception that is currently thrown.  Add a finally clause to make sure that the file is always closed.   "
   ]
  },
  {
   "cell_type": "code",
   "execution_count": 1,
   "metadata": {},
   "outputs": [
    {
     "ename": "FileNotFoundError",
     "evalue": "[Errno 2] No such file or directory: 'myexception.txt'",
     "output_type": "error",
     "traceback": [
      "\u001b[0;31m---------------------------------------------------------------------------\u001b[0m",
      "\u001b[0;31mFileNotFoundError\u001b[0m                         Traceback (most recent call last)",
      "\u001b[0;32m<ipython-input-1-a2c8a0a98e18>\u001b[0m in \u001b[0;36m<module>\u001b[0;34m\u001b[0m\n\u001b[0;32m----> 1\u001b[0;31m \u001b[0mf\u001b[0m \u001b[0;34m=\u001b[0m \u001b[0mopen\u001b[0m\u001b[0;34m(\u001b[0m\u001b[0;34m\"myexception.txt\"\u001b[0m\u001b[0;34m)\u001b[0m\u001b[0;34m\u001b[0m\u001b[0;34m\u001b[0m\u001b[0m\n\u001b[0m\u001b[1;32m      2\u001b[0m \u001b[0mf\u001b[0m\u001b[0;34m.\u001b[0m\u001b[0mwrite\u001b[0m\u001b[0;34m(\u001b[0m\u001b[0;34m\"Hello World \"\u001b[0m\u001b[0;34m)\u001b[0m\u001b[0;34m\u001b[0m\u001b[0;34m\u001b[0m\u001b[0m\n",
      "\u001b[0;31mFileNotFoundError\u001b[0m: [Errno 2] No such file or directory: 'myexception.txt'"
     ]
    }
   ],
   "source": [
    "f = open(\"myexception.txt\")\n",
    "f.write(\"Hello World \")"
   ]
  },
  {
   "cell_type": "markdown",
   "metadata": {},
   "source": [
    "### OOP\n",
    "In the fifth module, we learned about Python as an  object oriented programming language.  This included attributes and methods along with an init constructor used for creating objects. \n",
    "\n",
    "Create a class called Student that has an init consructor that sets the name and grade.  Instantiate the class as student1 with values for the name and grade. Print the student1 attributes."
   ]
  },
  {
   "cell_type": "code",
   "execution_count": null,
   "metadata": {},
   "outputs": [],
   "source": []
  },
  {
   "cell_type": "markdown",
   "metadata": {},
   "source": [
    "## MORE OOP\n",
    "In the sixth module, we learned advanced OOP topics, including inheritance. This allows us to define a class that inherits all the methods and properties from another class. This includes the Parent (base class) and the Child class (derived class). \n",
    "\n",
    "Create a Comp661 class which inherits the student class created above. Instantiate a student class with a name and grade and print the Comp661 instance attributes.   "
   ]
  },
  {
   "cell_type": "code",
   "execution_count": null,
   "metadata": {},
   "outputs": [],
   "source": []
  },
  {
   "cell_type": "markdown",
   "metadata": {},
   "source": [
    "## GUI Programming\n",
    "\n",
    "In the last module, we learned about creating a GUI in python. Jupyter doesn't have a display for the graphics so we won't recreate here.  However, Jupyer is used alot of plotting graphics.  If you are using mybinder or have matplotlib and numpy installed, run the following code to see a graph. After running, answer the question below (no wrong answer). "
   ]
  },
  {
   "cell_type": "code",
   "execution_count": null,
   "metadata": {},
   "outputs": [],
   "source": []
  },
  {
   "cell_type": "markdown",
   "metadata": {},
   "source": [
    "Did you see a graph?  Either yes/no or indicate that the modules are not installed. "
   ]
  },
  {
   "cell_type": "markdown",
   "metadata": {},
   "source": [
    "## Comp661 \n",
    "Some classes are taught completely in Jupyter notebooks. Notebooks are also used as final projects in academics so that users can see the data and run the examples to verify the results. They are a great way to both document and run code for sharing with others.     "
   ]
  }
 ],
 "metadata": {
  "kernelspec": {
   "display_name": "Python 3",
   "language": "python",
   "name": "python3"
  },
  "language_info": {
   "codemirror_mode": {
    "name": "ipython",
    "version": 3
   },
   "file_extension": ".py",
   "mimetype": "text/x-python",
   "name": "python",
   "nbconvert_exporter": "python",
   "pygments_lexer": "ipython3",
   "version": "3.7.8"
  }
 },
 "nbformat": 4,
 "nbformat_minor": 4
}
